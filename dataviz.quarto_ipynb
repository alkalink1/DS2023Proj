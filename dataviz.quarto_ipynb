{
  "cells": [
    {
      "cell_type": "markdown",
      "metadata": {},
      "source": [
        "# Data Visualizations\n",
        "\n",
        "* Importing libraries"
      ],
      "id": "69e24248"
    },
    {
      "cell_type": "code",
      "metadata": {},
      "source": [
        "# import libraries\n",
        "import pandas as pd\n",
        "import matplotlib.pyplot as plt\n",
        "import seaborn as sns\n",
        "import numpy as np\n",
        "import scipy as sp\n",
        "import plotly.express as px\n",
        "import plotly.graph_objects as go\n",
        "import plotly.io as pio  \n",
        "from datalearning import df"
      ],
      "id": "07c7a00d",
      "execution_count": null,
      "outputs": []
    },
    {
      "cell_type": "markdown",
      "metadata": {},
      "source": [
        "## Visuals\n"
      ],
      "id": "115c18fa"
    },
    {
      "cell_type": "code",
      "metadata": {},
      "source": [
        "#line graph of player load per minute \n",
        "monthly_avg = df.groupby(['Month', 'Position'], as_index=False).agg({ #This creates a new dataframe which groups data by month and position and takes the average of each\n",
        "    'Player Load Per Minute': 'mean',\n",
        "    'Explosive Efforts': 'mean',\n",
        "    'Total IMA': 'mean'\n",
        "})\n",
        "\n",
        "fig_load = px.line( #Makes a line graph with 3 lines showing average Player Load Per Minute over time by Position\n",
        "    monthly_avg, #Uses the data from the monthly_avg dataframe\n",
        "    x='Month', \n",
        "    y='Player Load Per Minute', \n",
        "    color='Position', #Colors each line by position\n",
        "    markers=True, #Adds a marker at each data point\n",
        "    title='Monthly Average: Player Load Per Minute by Position' #Adds title\n",
        ")\n",
        "\n",
        "fig_load.update_layout(  #Adds labels and makes the graph interactive\n",
        "    xaxis_title='Month', \n",
        "    yaxis_title='Avg Player Load Per Minute',\n",
        "    hovermode='x unified',\n",
        "     xaxis=dict(\n",
        "        range=['2023-09-01', '2024-03-30']  # Set desired zoom window\n",
        "    )\n",
        ")\n",
        "\n",
        "fig_load.show() #Shows plot\n",
        "\n",
        "fig_load.write_image('player_load_per_minute.png') #Saves plot as PNG file"
      ],
      "id": "fb413598",
      "execution_count": null,
      "outputs": []
    },
    {
      "cell_type": "markdown",
      "metadata": {},
      "source": [
        "The graph above illustrates how player load per minute has fluctuated throughout the past two seasons, emphasizing the importance of adjusting training and recovery plans throughout the year.\n"
      ],
      "id": "6b677e0a"
    },
    {
      "cell_type": "code",
      "metadata": {},
      "source": [
        "fig_effort = px.line( #Makes a line graph with 3 lines showing average Explosive Efforts over time by Position\n",
        "    monthly_avg, #Uses the new monthly_avg dataset\n",
        "    x='Month',\n",
        "    y='Explosive Efforts',\n",
        "    color='Position', #Each line is a different color which correlates with position\n",
        "    markers=True, #Adds markers at each data point\n",
        "    title='Monthly Average: Explosive Efforts by Position' #Adds title\n",
        ")\n",
        "\n",
        "fig_effort.update_layout(  #Adds labels and makes the graph interactive\n",
        "    xaxis_title='Month', \n",
        "    yaxis_title='Avg Explosive Efforts',\n",
        "    hovermode='x unified',\n",
        "     xaxis=dict(\n",
        "        range=['2023-10-01', '2024-03-30']  # Set desired zoom window\n",
        "    )\n",
        ")\n",
        "\n",
        "fig_effort.show() #Displays plot\n",
        "\n",
        "fig_effort.write_image('effort.png') #Saves plot as PNG file"
      ],
      "id": "89b29996",
      "execution_count": null,
      "outputs": []
    },
    {
      "cell_type": "markdown",
      "metadata": {},
      "source": [
        "The graph above illustrates how Explosive Efforts by position decreased initially, then increased significantly for each position for the majority of the rest of the season."
      ],
      "id": "0d079d7f"
    },
    {
      "cell_type": "code",
      "metadata": {},
      "source": [
        "fig_ima = px.line( #Makes a line graph with 3 lines showing average Total IMA over time by Position\n",
        "    monthly_avg, #Uses the dataframe monthly_avg\n",
        "    x='Month',\n",
        "    y='Total IMA',\n",
        "    color='Position', #Colors each line by position\n",
        "    markers=True, #Adds markers to each data point\n",
        "    title='Monthly Average: Total IMA by Position' #Adds graph title\n",
        ")\n",
        "\n",
        "fig_ima.update_layout( #Adds labels and makes the graph interactive\n",
        "    xaxis_title='Month',\n",
        "    yaxis_title='Avg Total IMA',\n",
        "    hovermode='x unified',\n",
        "     xaxis=dict(\n",
        "        range=['2023-10-01', '2024-03-30']  # Set desired zoom window\n",
        "    )\n",
        ")\n",
        "\n",
        "fig_ima.show() #Displays plot\n",
        "\n",
        "fig_ima.write_image('ima.png') #Saves plot as PNG file"
      ],
      "id": "721e2e97",
      "execution_count": null,
      "outputs": []
    },
    {
      "cell_type": "markdown",
      "metadata": {},
      "source": [
        "As seen in the graph above, Total IMA has decreased for the majority of the past two seasons, with little variability between positions. "
      ],
      "id": "6035d61a"
    }
  ],
  "metadata": {
    "kernelspec": {
      "name": "python3",
      "language": "python",
      "display_name": "Python 3 (ipykernel)",
      "path": "/opt/anaconda3/share/jupyter/kernels/python3"
    }
  },
  "nbformat": 4,
  "nbformat_minor": 5
}